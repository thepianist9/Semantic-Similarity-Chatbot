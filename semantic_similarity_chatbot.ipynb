{
 "cells": [
  {
   "cell_type": "code",
   "execution_count": null,
   "metadata": {
    "colab": {
     "base_uri": "https://localhost:8080/",
     "height": 289
    },
    "colab_type": "code",
    "id": "XYaOlN9zRAn4",
    "outputId": "386e1897-b942-4ff3-c0e1-fd7f90291b2d"
   },
   "outputs": [],
   "source": [
    "!pip install spacy"
   ]
  },
  {
   "cell_type": "code",
   "execution_count": null,
   "metadata": {
    "colab": {
     "base_uri": "https://localhost:8080/",
     "height": 241
    },
    "colab_type": "code",
    "id": "sDFEXEfhRMCB",
    "outputId": "7282e4b7-3d10-455d-adfa-3048d0658282"
   },
   "outputs": [],
   "source": [
    "!python -m spacy download en_core_web_lg"
   ]
  },
  {
   "cell_type": "code",
   "execution_count": null,
   "metadata": {
    "colab": {},
    "colab_type": "code",
    "id": "1RY5ytQYSKZf"
   },
   "outputs": [],
   "source": [
    "import spacy\n",
    "import en_core_web_lg\n",
    "nlp = spacy.load('en_core_web_lg')\n",
    "\n",
    "nlp = en_core_web_lg.load()"
   ]
  },
  {
   "cell_type": "code",
   "execution_count": null,
   "metadata": {
    "colab": {
     "base_uri": "https://localhost:8080/",
     "height": 1000
    },
    "colab_type": "code",
    "id": "3J9-D9EESjbE",
    "outputId": "c7e1b490-f123-4ac6-93a2-95c31e328e5b"
   },
   "outputs": [],
   "source": [
    "nlp.vocab['amazing'].vector # replace cheese with whatever word you want!"
   ]
  },
  {
   "cell_type": "code",
   "execution_count": null,
   "metadata": {
    "colab": {},
    "colab_type": "code",
    "id": "U4DzyPM9AFjK"
   },
   "outputs": [],
   "source": [
    "!curl -L -O http://www.cs.cornell.edu/~cristian/data/cornell_movie_dialogs_corpus.zip"
   ]
  },
  {
   "cell_type": "code",
   "execution_count": null,
   "metadata": {
    "colab": {},
    "colab_type": "code",
    "id": "YnAPBxSnAV89"
   },
   "outputs": [],
   "source": [
    "!unzip cornell_movie_dialogs_corpus.zip"
   ]
  },
  {
   "cell_type": "code",
   "execution_count": null,
   "metadata": {
    "colab": {},
    "colab_type": "code",
    "id": "MHr4xBS_AfBT"
   },
   "outputs": [],
   "source": [
    "movie_lines = {}\n",
    "for line in open(\"./cornell movie-dialogs corpus/movie_lines.txt\",\n",
    "                 encoding=\"latin1\"):\n",
    "    line = line.strip()\n",
    "    parts = line.split(\" +++$+++ \")\n",
    "    if len(parts) == 5:\n",
    "        movie_lines[parts[0]] = parts[4]\n",
    "    else:\n",
    "        movie_lines[parts[0]] = \"\""
   ]
  },
  {
   "cell_type": "code",
   "execution_count": 2,
   "metadata": {},
   "outputs": [],
   "source": [
    "import json"
   ]
  },
  {
   "cell_type": "code",
   "execution_count": null,
   "metadata": {
    "colab": {},
    "colab_type": "code",
    "id": "arbpjBT5Aj7K"
   },
   "outputs": [],
   "source": [
    "import json\n",
    "responses = {}\n",
    "for line in open(\"./cornell movie-dialogs corpus/movie_conversations.txt\",\n",
    "                 encoding=\"latin1\"):\n",
    "    line = line.strip()\n",
    "    parts = line.split(\" +++$+++ \")\n",
    "    line_ids = json.loads(parts[3].replace(\"'\", '\"'))\n",
    "    for first, second in zip(line_ids[:-1], line_ids[1:]):\n",
    "        responses[first] = second"
   ]
  },
  {
   "cell_type": "markdown",
   "metadata": {
    "colab_type": "text",
    "id": "Kdjf5_NTG6_O"
   },
   "source": [
    "Just to make sure everything works, the cell below prints out five random pairs of conversational turns from the corpus:"
   ]
  },
  {
   "cell_type": "code",
   "execution_count": null,
   "metadata": {
    "colab": {},
    "colab_type": "code",
    "id": "eWJd0N2oAsAu"
   },
   "outputs": [],
   "source": [
    "import random\n",
    "for pair in random.sample(responses.items(), 5):\n",
    "    print(\"A:\", movie_lines[pair[0]])\n",
    "    print(\"B:\", movie_lines[pair[1]])\n",
    "    print()"
   ]
  },
  {
   "cell_type": "markdown",
   "metadata": {
    "colab_type": "text",
    "id": "Vl38pCn4HlL_"
   },
   "source": [
    "### Making a sentence vector\n",
    "\n",
    "To make the sentence vector for each line of dialog, i am using spaCy. The function `sentence_mean` below takes the spaCy object that we loaded earlier (`nlp`) and uses it to tokenize the string that you pass into the function (i.e., break it up into words). It then uses numpy's `mean()` function to find the average of the vectors, producing a new vector. The shape of the resulting vector (i.e., the number of dimensions) should be the same as the shape of the individual word vectors.\n",
    "\n",
    "(Note: I disabled the `tagger` and `parser` parts of spaCy's pipeline to improve performance. We're not using part of speech tags or dependency relations in this chatbot, so there's no reason to spend time calculating them.)"
   ]
  },
  {
   "cell_type": "code",
   "execution_count": null,
   "metadata": {
    "colab": {},
    "colab_type": "code",
    "id": "JizJee4YBAdJ"
   },
   "outputs": [],
   "source": [
    "import numpy as np\n",
    "def sentence_mean(nlp, s):\n",
    "    if s == \"\":\n",
    "        s = \" \"\n",
    "    doc = nlp(s, disable=['tagger', 'parser'])\n",
    "    return np.mean(np.array([w.vector for w in doc]), axis=0)\n",
    "sentence_mean(nlp, \"This... is a test.\").shape"
   ]
  },
  {
   "cell_type": "code",
   "execution_count": null,
   "metadata": {
    "colab": {},
    "colab_type": "code",
    "id": "ppulERZ5Tz5a"
   },
   "outputs": [],
   "source": [
    "!pip install simpleneighbors"
   ]
  },
  {
   "cell_type": "code",
   "execution_count": null,
   "metadata": {
    "colab": {},
    "colab_type": "code",
    "id": "X8jODdF-BHxR"
   },
   "outputs": [],
   "source": [
    "from simpleneighbors import SimpleNeighbors\n",
    "\n",
    "nns = SimpleNeighbors(300)\n",
    "for i, line_id in enumerate(random.sample(list(responses.keys()), 10000)):\n",
    "    # show progress\n",
    "    if i % 1000 == 0: print(i, line_id, movie_lines[line_id])\n",
    "    line_text = movie_lines[line_id]\n",
    "    summary_vector = sentence_mean(nlp, line_text)\n",
    "    if np.any(summary_vector):\n",
    "        nns.add_one(line_id, summary_vector)\n",
    "nns.build()"
   ]
  },
  {
   "cell_type": "code",
   "execution_count": null,
   "metadata": {
    "colab": {},
    "colab_type": "code",
    "id": "l656oBJoBLaa"
   },
   "outputs": [],
   "source": [
    "sentence = \"I like making bots.\"\n",
    "picked = nns.nearest(sentence_mean(nlp, sentence), 5)[0]\n",
    "response_line_id = responses[picked]\n",
    "\n",
    "print(\"Your line:\\n\\t\", sentence)\n",
    "print(\"Most similar turn:\\n\\t\", movie_lines[picked])\n",
    "print(\"Response to most similar turn:\\n\\t\", movie_lines[response_line_id])"
   ]
  },
  {
   "cell_type": "code",
   "execution_count": null,
   "metadata": {
    "colab": {},
    "colab_type": "code",
    "id": "TI4sCHjmQFfu"
   },
   "outputs": [],
   "source": [
    "!pip install https://github.com/aparrish/semanticsimilaritychatbot/archive/master.zip"
   ]
  },
  {
   "cell_type": "markdown",
   "metadata": {
    "colab_type": "text",
    "id": "nPGClLIPQYBw"
   },
   "source": [
    "Then create a chatbot object, passing in the spaCy language object (`nlp`) and the number of dimensions:"
   ]
  },
  {
   "cell_type": "code",
   "execution_count": null,
   "metadata": {
    "colab": {},
    "colab_type": "code",
    "id": "xWbiYvA-K3xv"
   },
   "outputs": [],
   "source": [
    "from semanticsimilaritychatbot import SemanticSimilarityChatbot\n",
    "chatbot = SemanticSimilarityChatbot(nlp, 300)"
   ]
  },
  {
   "cell_type": "markdown",
   "metadata": {
    "colab_type": "text",
    "id": "TvsLgSCKQfIF"
   },
   "source": [
    "The `.add_pair()` method in the object takes two strings: a turn and the response to that turn. We'll get these from the `responses` and `movie_lines` lookups, again sampling ten thousand pairs at random. This cell will take a little while to run:"
   ]
  },
  {
   "cell_type": "code",
   "execution_count": null,
   "metadata": {
    "colab": {},
    "colab_type": "code",
    "id": "XaEYCz70KyPg"
   },
   "outputs": [],
   "source": [
    "sample_n = 10000\n",
    "for first_id, second_id in random.sample(list(responses.items()), sample_n):\n",
    "    chatbot.add_pair(movie_lines[first_id], movie_lines[second_id])\n",
    "chatbot.build()"
   ]
  },
  {
   "cell_type": "code",
   "execution_count": null,
   "metadata": {
    "colab": {},
    "colab_type": "code",
    "id": "B-sTY8OUK1ju"
   },
   "outputs": [],
   "source": [
    "print(chatbot.response_for(\"Hello computer!\"))"
   ]
  },
  {
   "cell_type": "code",
   "execution_count": null,
   "metadata": {
    "colab": {},
    "colab_type": "code",
    "id": "gmDFQy-2MiCr"
   },
   "outputs": [],
   "source": [
    "my_turn = \"The weather's nice today, don't you think?\"\n",
    "for i in range(5, 51, 5):\n",
    "    print(\"picking from\", i, \"possible responses:\")\n",
    "    print(chatbot.response_for(my_turn, i))\n",
    "    print()"
   ]
  },
  {
   "cell_type": "markdown",
   "metadata": {
    "colab_type": "text",
    "id": "tZw0DgPiRgz4"
   },
   "source": [
    "The Semantic Similarity Chatbot object has a `.save()` method that saves the pre-built database to disk, using a filename prefix you supply. (It saves three different files: `<prefix>.annoy`, `<prefix>-data.pkl`, and `<prefix>-chatbot.pkl`)."
   ]
  },
  {
   "cell_type": "code",
   "execution_count": null,
   "metadata": {
    "colab": {},
    "colab_type": "code",
    "id": "cPgATDpnLTYv"
   },
   "outputs": [],
   "source": [
    "chatbot.save(\"movielines-10k-sample\")"
   ]
  },
  {
   "cell_type": "code",
   "execution_count": null,
   "metadata": {
    "colab": {},
    "colab_type": "code",
    "id": "Wutboh4MLkja"
   },
   "outputs": [],
   "source": [
    "chatbot = SemanticSimilarityChatbot.load(\"movielines-10k-sample\", nlp)"
   ]
  },
  {
   "cell_type": "code",
   "execution_count": null,
   "metadata": {
    "colab": {},
    "colab_type": "code",
    "id": "-6IOQ9DPNrOR"
   },
   "outputs": [],
   "source": [
    "print(chatbot.response_for(\"I'm going to go get some coffee.\"))"
   ]
  },
  {
   "cell_type": "code",
   "execution_count": null,
   "metadata": {
    "colab": {},
    "colab_type": "code",
    "id": "kCeo-cHdSUxg"
   },
   "outputs": [],
   "source": [
    "from google.colab import files\n",
    "files.download('movielines-10k-sample.annoy')\n",
    "files.download('movielines-10k-sample-data.pkl')\n",
    "files.download('movielines-10k-sample-chatbot.pkl')"
   ]
  },
  {
   "cell_type": "markdown",
   "metadata": {
    "colab_type": "text",
    "id": "M1wElvooTBjp"
   },
   "source": [
    "## Making it interactive\n",
    "\n",
    "If you're using this notebook in Google Colab, the following cell will create a little interactive interface for chatting with the bot that you just built. Run the two cells below and start typing into the box."
   ]
  },
  {
   "cell_type": "code",
   "execution_count": null,
   "metadata": {
    "colab": {},
    "colab_type": "code",
    "id": "WSjtkXigBuRo"
   },
   "outputs": [],
   "source": [
    "chatbot_html = \"\"\"\n",
    "<style type=\"text/css\">#log p { margin: 5px; font-family: sans-serif; }</style>\n",
    "<div id=\"log\"\n",
    "     style=\"box-sizing: border-box;\n",
    "            width: 600px;\n",
    "            height: 32em;\n",
    "            border: 1px grey solid;\n",
    "            padding: 2px;\n",
    "            overflow: scroll;\">\n",
    "</div>\n",
    "<input type=\"text\" id=\"typehere\" placeholder=\"type here!\"\n",
    "       style=\"box-sizing: border-box;\n",
    "              width: 600px;\n",
    "              margin-top: 5px;\">\n",
    "<script>\n",
    "function paraWithText(t) {\n",
    "    let tn = document.createTextNode(t);\n",
    "    let ptag = document.createElement('p');\n",
    "    ptag.appendChild(tn);\n",
    "    return ptag;\n",
    "}\n",
    "document.querySelector('#typehere').onchange = async function() {\n",
    "    let inputField = document.querySelector('#typehere');\n",
    "    let val = inputField.value;\n",
    "    inputField.value = \"\";\n",
    "    let resp = await getResp(val);\n",
    "    let objDiv = document.getElementById(\"log\");\n",
    "    objDiv.appendChild(paraWithText('😀: ' + val));\n",
    "    objDiv.appendChild(paraWithText('🤖: ' + resp));\n",
    "    objDiv.scrollTop = objDiv.scrollHeight;\n",
    "};\n",
    "async function colabGetResp(val) {\n",
    "    let resp = await google.colab.kernel.invokeFunction(\n",
    "        'notebook.get_response', [val], {});\n",
    "    return resp.data['application/json']['result'];\n",
    "}\n",
    "async function webGetResp(val) {\n",
    "    let resp = await fetch(\"/response.json?sentence=\" + \n",
    "        encodeURIComponent(val));\n",
    "    let data = await resp.json();\n",
    "    return data['result'];\n",
    "}\n",
    "</script>\n",
    "\"\"\""
   ]
  },
  {
   "cell_type": "code",
   "execution_count": null,
   "metadata": {
    "colab": {},
    "colab_type": "code",
    "id": "SHilVz_Yy3Th"
   },
   "outputs": [],
   "source": [
    " import IPython\n",
    "from google.colab import output\n",
    "\n",
    "display(IPython.display.HTML(chatbot_html + \\\n",
    "                             \"<script>let getResp = colabGetResp;</script>\"))\n",
    "\n",
    "def get_response(val):\n",
    "    resp = chatbot.response_for(val)\n",
    "    return IPython.display.JSON({'result': resp})\n",
    "\n",
    "output.register_callback('notebook.get_response', get_response)"
   ]
  },
  {
   "cell_type": "markdown",
   "metadata": {
    "colab_type": "text",
    "id": "Z1CJg2lG67KB"
   },
   "source": [
    "If you're not using Colab, try the following two cells to install [Flask](http://flask.pocoo.org) and run a little web server from your notebook that lets you chat with the bot. Click on the link that appears below the second cell to open up the chat in a new window."
   ]
  },
  {
   "cell_type": "code",
   "execution_count": null,
   "metadata": {
    "colab": {},
    "colab_type": "code",
    "id": "a4hcd0wU4jGK"
   },
   "outputs": [],
   "source": [
    "!pip install flask"
   ]
  },
  {
   "cell_type": "code",
   "execution_count": null,
   "metadata": {
    "colab": {},
    "colab_type": "code",
    "id": "25bjOkzX4dC-"
   },
   "outputs": [],
   "source": [
    "from flask import Flask, request, jsonify\n",
    "app = Flask(__name__)\n",
    "@app.route(\"/response.json\")\n",
    "def response():\n",
    "    sentence = request.args['sentence']\n",
    "    return jsonify(\n",
    "        {'result': chatbot.response_for(sentence)})\n",
    "@app.route(\"/\")\n",
    "def home():\n",
    "    return chatbot_html + \"<script>let getResp = webGetResp;</script>\"\n",
    "app.run()"
   ]
  }
 ],
 "metadata": {
  "accelerator": "GPU",
  "colab": {
   "collapsed_sections": [],
   "name": "semantic_similarity_chatbot.ipynb",
   "provenance": []
  },
  "kernelspec": {
   "display_name": "Python 3",
   "language": "python",
   "name": "python3"
  },
  "language_info": {
   "codemirror_mode": {
    "name": "ipython",
    "version": 3
   },
   "file_extension": ".py",
   "mimetype": "text/x-python",
   "name": "python",
   "nbconvert_exporter": "python",
   "pygments_lexer": "ipython3",
   "version": "3.7.4"
  }
 },
 "nbformat": 4,
 "nbformat_minor": 4
}
